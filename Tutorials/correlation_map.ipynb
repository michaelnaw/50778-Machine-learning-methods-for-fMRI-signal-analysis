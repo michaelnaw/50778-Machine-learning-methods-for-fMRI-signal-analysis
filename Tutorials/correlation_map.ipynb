{
 "cells": [
  {
   "cell_type": "code",
   "execution_count": null,
   "id": "97420759-b98d-4e18-a794-a1742d8ed396",
   "metadata": {},
   "outputs": [],
   "source": [
    "import glob\n",
    "import warnings\n",
    "import numpy as np\n",
    "from scipy.io import loadmat\n",
    "from nilearn.image import load_img, coord_transform\n",
    "import nibabel as nib\n",
    "from brainvoyagertools.voi import VOIsDefinition as voi_reader"
   ]
  },
  {
   "cell_type": "markdown",
   "id": "376114b2-6480-4b7a-b167-ad8cd835d50f",
   "metadata": {},
   "source": [
    "set paths"
   ]
  },
  {
   "cell_type": "code",
   "execution_count": null,
   "id": "c70745de-e3f7-484d-a171-b00ce2a9caea",
   "metadata": {},
   "outputs": [],
   "source": [
    "fMRI_folder_path = '../fMRI Data for Tutorial and HW/story_selected_reg_wm_csf_hsd_last_half2/'\n",
    "nii_path = '../fMRI Data for Tutorial and HW/MNI152_T1_3mm_brain.nii'\n",
    "VOI_path ='../fMRI Data for Tutorial and HW/a1_group2_new.voi'"
   ]
  },
  {
   "cell_type": "markdown",
   "id": "f3d99c50-786d-4567-af56-d0db079361af",
   "metadata": {},
   "source": [
    "find FMRI data and load nifti and VOI file"
   ]
  },
  {
   "cell_type": "code",
   "execution_count": null,
   "id": "d63d7caa-82f8-4b5e-8213-093b011f6b02",
   "metadata": {},
   "outputs": [],
   "source": [
    "fmri_data_path = fMRI_folder_path\n",
    "fmri_files = sorted(glob.glob(fmri_data_path+'*.mat'))  # load fMRI data - mat files\n",
    "fmri_avg_files = sorted(glob.glob(fmri_data_path+'avg/*.mat'))  # load average fMRI data - mat files\n",
    "if (len(fmri_avg_files) != 18) and (len(fmri_files) != 18):\n",
    "    print(\"Can't load files, please check fMRI folder path\")\n",
    "try:\n",
    "    ROI_template = load_img(nii_path)\n",
    "except ValueError:\n",
    "    print(\"Can't load files, please check nii path\")\n",
    "try:\n",
    "    voi = voi_reader(load=VOI_path)\n",
    "except OSError:\n",
    "    print(\"Can't load files, please check VOI path\")"
   ]
  },
  {
   "cell_type": "markdown",
   "id": "431b9f08-6756-4fcc-89bd-6022627c91d5",
   "metadata": {},
   "source": [
    "Select VOI and change data to 1D vector "
   ]
  },
  {
   "cell_type": "code",
   "execution_count": null,
   "id": "2ec3d32a-7dc5-4de5-bc95-4b2bacb1cc62",
   "metadata": {},
   "outputs": [],
   "source": [
    "select_voi = 1  # user can select VOI 1-5\n",
    "\n",
    "inv_affine_mat = np.linalg.inv(ROI_template.affine)\n",
    "voxels = []\n",
    "for x, y, z in voi.vois[select_voi-1].data:\n",
    "    x_vox, y_vox, z_vox = coord_transform(x, y, z, inv_affine_mat)\n",
    "    voxels.append(np.round((x_vox, y_vox, z_vox)).astype(int))\n",
    "voxels = np.array(voxels)\n",
    "\n",
    "roi = np.zeros(ROI_template.shape, dtype=int)\n",
    "for voxel in voxels:\n",
    "    roi[voxel[0], voxel[1], voxel[2]] = 1\n",
    "\n",
    "roimask = roi.flatten('F')"
   ]
  },
  {
   "cell_type": "markdown",
   "id": "4e3c1a8d-eac0-4a5d-a2cc-addfcd340621",
   "metadata": {},
   "source": [
    "consts for correlation map"
   ]
  },
  {
   "cell_type": "code",
   "execution_count": null,
   "id": "7f257477-b514-4dff-ab0d-7ff7a401d759",
   "metadata": {},
   "outputs": [],
   "source": [
    "method = 1  # Functional connectivity (FC) = 1, Inter-subject functional correlation (ISFC) = 0 \n",
    "Nsub = 18  # number of subjects = 18 \n",
    "Nsamp = 280  # TR\n",
    "threshold = 6000  # signal threshold"
   ]
  },
  {
   "cell_type": "markdown",
   "id": "2c6bafd7-c878-4784-af39-dc37cca2d7c5",
   "metadata": {},
   "source": [
    "create correlation map"
   ]
  },
  {
   "cell_type": "code",
   "execution_count": null,
   "id": "179a9442-dfa8-4c22-982e-275f54c02daa",
   "metadata": {},
   "outputs": [],
   "source": [
    "for subject in range(1, Nsub + 1):\n",
    "    print(f'Analysis Subject {subject}')\n",
    "    bold_one_temp = loadmat(fmri_files[subject - 1])['data_crop'].T\n",
    "\n",
    "    if subject == 1:\n",
    "        Nsamp, Nvox = bold_one_temp.shape\n",
    "        csub_2 = np.empty((Nvox, Nsub))\n",
    "        csub_2[:] = np.NaN\n",
    "\n",
    "    mask_single = np.mean(bold_one_temp, axis=0) > threshold\n",
    "\n",
    "    bold_one_temp[:, ~mask_single] = np.NaN\n",
    "\n",
    "    ROI = bold_one_temp[:, roimask.astype(bool)]\n",
    "\n",
    "    ROI_norm = (ROI - np.mean(ROI, axis=0)) / np.std(ROI, axis=0)\n",
    "\n",
    "    B = np.nanmean(ROI_norm, axis=1)\n",
    "\n",
    "    if method == 1:\n",
    "        gg_avg = np.where(mask_single)[0]\n",
    "        Ng_avg = len(gg_avg)\n",
    "        B_avg = bold_one_temp[:Nsamp, gg_avg]\n",
    "    else:\n",
    "        bold_avg = loadmat(fmri_avg_files[subject - 1])['bold_avg']\n",
    "        mask_avg = bold_avg[-1, :]\n",
    "        bold_avg = bold_avg[:-1, :][:Nsamp, :]\n",
    "\n",
    "        gg_avg = np.where(mask_avg)[0]\n",
    "        Ng_avg = len(gg_avg)\n",
    "        B_avg = bold_avg[:, gg_avg]\n",
    "\n",
    "    B = (B - np.mean(B)) / (np.sqrt(Nsamp - 1) * np.std(B))\n",
    "\n",
    "    B_avg = (B_avg - np.mean(B_avg, axis=0)) / (np.sqrt(Nsamp - 1) * np.std(B_avg, axis=0))\n",
    "\n",
    "    cc = B_avg.T @ B\n",
    "    csub_2[gg_avg, subject - 1] = cc"
   ]
  },
  {
   "cell_type": "code",
   "execution_count": null,
   "id": "6d0d81ce-0029-48c2-828a-a63648e8a05c",
   "metadata": {},
   "outputs": [],
   "source": [
    "warnings.filterwarnings(\"ignore\")\n",
    "method_name = ['ISFC', 'FC']\n",
    "\n",
    "avg_map_dmn = np.nanmean(csub_2, axis=1)\n",
    "mean_corr_img = np.reshape(avg_map_dmn, (61, 73, 61), order='F')\n",
    "print('Saving maps')\n",
    "\n",
    "nii = nib.load(nii_path)\n",
    "nii_data = nii.get_fdata()\n",
    "nii_data[np.isnan(nii_data)] = 0\n",
    "nii_updated = nib.Nifti1Image(mean_corr_img, nii.affine, nii.header)\n",
    "\n",
    "save_name = f'1CorrelationMap_{method_name[method]}_ROI_{select_voi}.nii'\n",
    "nib.save(nii_updated, save_name)\n",
    "print(f'Saved {save_name}')"
   ]
  }
 ],
 "metadata": {
  "kernelspec": {
   "display_name": "Python 3 (ipykernel)",
   "language": "python",
   "name": "python3"
  },
  "language_info": {
   "codemirror_mode": {
    "name": "ipython",
    "version": 3
   },
   "file_extension": ".py",
   "mimetype": "text/x-python",
   "name": "python",
   "nbconvert_exporter": "python",
   "pygments_lexer": "ipython3",
   "version": "3.11.0"
  }
 },
 "nbformat": 4,
 "nbformat_minor": 5
}
