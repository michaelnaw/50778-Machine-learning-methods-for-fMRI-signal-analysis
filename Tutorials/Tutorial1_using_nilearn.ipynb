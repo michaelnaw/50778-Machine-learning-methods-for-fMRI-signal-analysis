{
 "cells": [
  {
   "cell_type": "code",
   "execution_count": null,
   "id": "836515f9-dfc4-41e0-8257-b6780a83593c",
   "metadata": {},
   "outputs": [],
   "source": [
    "import warnings\n",
    "import numpy as np\n",
    "from scipy.stats import pearsonr\n",
    "from nilearn.image import load_img\n",
    "from nilearn.maskers import NiftiSpheresMasker\n",
    "from brainvoyagertools.voi import VOIsDefinition as voi_reader\n",
    "import matplotlib.pyplot as plt\n",
    "%matplotlib widget"
   ]
  },
  {
   "cell_type": "markdown",
   "id": "fa539380-95e4-46ab-ac5b-8b381ce1dcb0",
   "metadata": {},
   "source": [
    "Ignore some warnnigs about NaNs and Infs"
   ]
  },
  {
   "cell_type": "code",
   "execution_count": null,
   "id": "eb8ae030-8b6b-4b34-b030-fcf07d355133",
   "metadata": {},
   "outputs": [],
   "source": [
    "warnings.filterwarnings(\"ignore\")"
   ]
  },
  {
   "cell_type": "markdown",
   "id": "db800def-7782-4640-9f81-686eab7a3633",
   "metadata": {},
   "source": [
    "Read nii & VOI file"
   ]
  },
  {
   "cell_type": "code",
   "execution_count": null,
   "id": "39564b2d-4fa4-4bbe-846d-db134b8de2c2",
   "metadata": {},
   "outputs": [],
   "source": [
    "nii = load_img('../fMRI Data for Tutorial and HW/sub-025-task-intact2.nii')\n",
    "voi = voi_reader(load='../fMRI Data for Tutorial and HW/a1_group2_new.voi')"
   ]
  },
  {
   "cell_type": "markdown",
   "id": "50fd6072-110b-4b04-af7b-c90c27d613f5",
   "metadata": {},
   "source": [
    "Create Masks from VOIs"
   ]
  },
  {
   "cell_type": "code",
   "execution_count": null,
   "id": "9d59823e-7e62-4aca-8d97-e15d0d7987f3",
   "metadata": {},
   "outputs": [],
   "source": [
    "nii_voitc = {}\n",
    "for single_voi in voi.vois:\n",
    "    masker = NiftiSpheresMasker(seeds=single_voi.data)\n",
    "    nii_voitc[single_voi.name] = masker.fit_transform(nii)"
   ]
  },
  {
   "cell_type": "code",
   "execution_count": null,
   "id": "ae30467a-032c-41f9-89fb-694565d5bbca",
   "metadata": {},
   "outputs": [],
   "source": [
    "nii_avg_voitc = {}\n",
    "for key in nii_voitc:\n",
    "    nii_avg_voitc[key] = np.mean(nii_voitc[key], 1)"
   ]
  },
  {
   "cell_type": "markdown",
   "id": "05cfaf9a-038f-4d47-82ff-ce2ee7b46ea4",
   "metadata": {},
   "source": [
    "plot average timecourse"
   ]
  },
  {
   "cell_type": "code",
   "execution_count": null,
   "id": "91cb7ea1-4874-471b-81fa-b415da017016",
   "metadata": {},
   "outputs": [],
   "source": [
    "fig = plt.figure(figsize=(7, 10))\n",
    "for num, key in enumerate(nii_avg_voitc):\n",
    "    ax = fig.add_subplot(len(nii_avg_voitc), 1, num+1)\n",
    "    ax.plot(nii_avg_voitc[key])\n",
    "    ax.set_title(f'Region Of Intrest {key}')\n",
    "    ax.set_xlabel('Time')\n",
    "    ax.set_ylabel('Magnitude')\n",
    "plt.tight_layout()\n",
    "plt.show()"
   ]
  },
  {
   "cell_type": "markdown",
   "id": "5d3e8d72-d3e0-435b-a174-b1d9906082c0",
   "metadata": {},
   "source": [
    "Correlation between average brain area"
   ]
  },
  {
   "cell_type": "code",
   "execution_count": null,
   "id": "5237aea8-bf62-4b82-8707-4ac6a67d1e0d",
   "metadata": {},
   "outputs": [],
   "source": [
    "n = len(nii_avg_voitc)  # number of brain area\n",
    "R = np.zeros((n, n))\n",
    "\n",
    "str_mat = []\n",
    "for indx, key_1 in enumerate(nii_avg_voitc):\n",
    "    for jndx, key_2 in enumerate(nii_avg_voitc):\n",
    "        val, _ = pearsonr(nii_avg_voitc[key_1], nii_avg_voitc[key_2])\n",
    "        R[indx, jndx] = val"
   ]
  },
  {
   "cell_type": "markdown",
   "id": "a7fa27bf-8093-4e36-b33e-147510f5c211",
   "metadata": {},
   "source": [
    "Plot Correlation Matrix"
   ]
  },
  {
   "cell_type": "code",
   "execution_count": null,
   "id": "b06b3585-2499-4f55-942a-ecfc72c2d003",
   "metadata": {},
   "outputs": [],
   "source": [
    "fig, ax = plt.subplots()\n",
    "ax_img = ax.imshow(R, extent=[-1, 1, -1, 1])\n",
    "fig.colorbar(ax_img)\n",
    "ax.set_xticks(ticks=np.linspace(-0.75, 0.75, 5), labels=voi.names)\n",
    "ax.set_yticks(ticks=np.linspace(-0.75, 0.75, 5), labels=voi.names[::-1])\n",
    "plt.show()"
   ]
  }
 ],
 "metadata": {
  "kernelspec": {
   "display_name": "Python 3 (ipykernel)",
   "language": "python",
   "name": "python3"
  },
  "language_info": {
   "codemirror_mode": {
    "name": "ipython",
    "version": 3
   },
   "file_extension": ".py",
   "mimetype": "text/x-python",
   "name": "python",
   "nbconvert_exporter": "python",
   "pygments_lexer": "ipython3",
   "version": "3.11.0"
  }
 },
 "nbformat": 4,
 "nbformat_minor": 5
}
