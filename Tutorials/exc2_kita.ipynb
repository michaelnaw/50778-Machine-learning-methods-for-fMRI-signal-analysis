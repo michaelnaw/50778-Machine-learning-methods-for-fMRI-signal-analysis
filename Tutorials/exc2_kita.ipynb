{
 "cells": [
  {
   "cell_type": "code",
   "execution_count": null,
   "id": "38f81ee4-73fa-43ca-955c-b6652c439ac4",
   "metadata": {},
   "outputs": [],
   "source": [
    "import numpy as np\n",
    "from scipy.io.wavfile import read as audioread\n",
    "from scipy.io import loadmat\n",
    "from scipy.stats import zscore\n",
    "from scipy.signal import hilbert, resample_poly, correlate, find_peaks, peak_prominences\n",
    "from nilearn.image import load_img, coord_transform\n",
    "from brainvoyagertools.voi import VOIsDefinition as voi_reader\n",
    "import matplotlib.pyplot as plt\n",
    "import mplcursors\n",
    "%matplotlib qt"
   ]
  },
  {
   "cell_type": "markdown",
   "id": "b9f0a06d-01fa-4b5e-b78a-af15f97526f3",
   "metadata": {},
   "source": [
    "load Pie-man story"
   ]
  },
  {
   "cell_type": "code",
   "execution_count": null,
   "id": "b74a1b61-7ca6-47c1-9ab6-753fe1ea20dc",
   "metadata": {},
   "outputs": [],
   "source": [
    "Fs, y = audioread('../fMRI Data for Tutorial and HW/Story_Original_MRI.wav')\n",
    "N = y.shape[0]\n",
    "slength = N/Fs\n",
    "time = np.linspace(0, N/Fs, N)\n",
    "signal = np.mean(y, 1)\n",
    "signal_nor = zscore(signal)"
   ]
  },
  {
   "cell_type": "markdown",
   "id": "b8334d09-0c4d-4db3-ade6-5a1ebfd5cdc1",
   "metadata": {},
   "source": [
    "Envelope  \n",
    "  \n",
    "there is no direct equvilent to MATLAB's envelope  \n",
    "Doing my best to replicate envelope(signal_nor,Fs/10,'peak');"
   ]
  },
  {
   "cell_type": "code",
   "execution_count": null,
   "id": "6f929305-fe5e-4130-bc8b-e9ad23e74351",
   "metadata": {},
   "outputs": [],
   "source": [
    "window_size = Fs // 10\n",
    "# Find peaks\n",
    "peaks, _ = find_peaks(signal_nor, distance=window_size)\n",
    "# Calculate the prominences of the peaks\n",
    "prominences = peak_prominences(signal_nor, peaks)[0]\n",
    "# Interpolate the upper and lower envelopes\n",
    "envelope = np.interp(np.arange(len(signal_nor)), peaks, prominences)"
   ]
  },
  {
   "cell_type": "markdown",
   "id": "99f7bc60-d88b-4e09-9117-175db27aa6f3",
   "metadata": {},
   "source": [
    "Resample"
   ]
  },
  {
   "cell_type": "code",
   "execution_count": null,
   "id": "c7415266-05fe-498d-8bcc-ba011ea46cdf",
   "metadata": {},
   "outputs": [],
   "source": [
    "T1 = resample_poly(envelope, 1, Fs)\n",
    "T = resample_poly(T1, 2, 3)\n",
    "T = T[9:290]\n",
    "T = np.convolve(T, np.ones(5)/5, mode='valid')  # mimicks smooth, actually better results without"
   ]
  },
  {
   "cell_type": "markdown",
   "id": "6b71f980-bfb6-4093-858e-32d52b7f0050",
   "metadata": {},
   "source": [
    "fMRI data - extract average ROI"
   ]
  },
  {
   "cell_type": "code",
   "execution_count": null,
   "id": "e44cf223-7053-4bd8-8847-d57ed8ffb245",
   "metadata": {},
   "outputs": [],
   "source": [
    "roinii1 = load_img('../fMRI Data for Tutorial and HW/MNI152_T1_3mm_brain.nii')\n",
    "voi = voi_reader(load='../fMRI Data for Tutorial and HW/a1_group2_new.voi')"
   ]
  },
  {
   "cell_type": "markdown",
   "id": "52231076-9798-489a-bbce-ee2b9ae1e6f5",
   "metadata": {},
   "source": [
    "Convert VOI to Voxels"
   ]
  },
  {
   "cell_type": "code",
   "execution_count": null,
   "id": "5000eb38-f61a-4b48-bef4-893e717c30f0",
   "metadata": {},
   "outputs": [],
   "source": [
    "inv_affine_mat = np.linalg.inv(roinii1.affine)\n",
    "voxels = []\n",
    "for x, y, z in voi.vois[4].data:\n",
    "    x_vox, y_vox, z_vox = coord_transform(x, y, z, inv_affine_mat)\n",
    "    voxels.append(np.round((x_vox, y_vox, z_vox)).astype(int))\n",
    "voxels = np.array(voxels)"
   ]
  },
  {
   "cell_type": "markdown",
   "id": "c33cb299-3ccd-4d4c-bcac-1679b43ad0bd",
   "metadata": {},
   "source": [
    "Create binay mask"
   ]
  },
  {
   "cell_type": "code",
   "execution_count": null,
   "id": "2a3b847e-17ec-48cd-95a7-ebb3ccd672b7",
   "metadata": {
    "tags": []
   },
   "outputs": [],
   "source": [
    "roi = np.zeros(roinii1.shape, dtype=int)\n",
    "for voxel in voxels:\n",
    "    roi[voxel[0], voxel[1], voxel[2]] = 1"
   ]
  },
  {
   "cell_type": "markdown",
   "id": "b7633b2c-9ba8-4986-9d7c-913ef33bcaab",
   "metadata": {},
   "source": [
    "reshape the 3d matrix to 1D vector (roimask)"
   ]
  },
  {
   "cell_type": "code",
   "execution_count": null,
   "id": "e8e8dcc1-4487-468a-b05f-bbb306956981",
   "metadata": {},
   "outputs": [],
   "source": [
    "roimask = roi.flatten('F')"
   ]
  },
  {
   "cell_type": "code",
   "execution_count": null,
   "id": "c2cf4538-d87b-484c-838c-c71bff83e584",
   "metadata": {},
   "outputs": [],
   "source": [
    "data = loadmat('../fMRI Data for Tutorial and HW/story_selected_reg_wm_csf_hsd_last_half2/avg/A0.mat')\n",
    "data = data['bold_avg']"
   ]
  },
  {
   "cell_type": "code",
   "execution_count": null,
   "id": "4bf48359-1cc3-468e-882d-c3752ec3a3b5",
   "metadata": {},
   "outputs": [],
   "source": [
    "ROI = data[:, roimask == 1]\n",
    "ROI_nor = zscore(ROI)\n",
    "mean_ROI = np.mean(ROI_nor, 1)\n",
    "mean_ROI = zscore(mean_ROI)"
   ]
  },
  {
   "cell_type": "markdown",
   "id": "535702a6-8aef-45e2-ae83-6c8abea165e5",
   "metadata": {},
   "source": [
    "cross correlation"
   ]
  },
  {
   "cell_type": "code",
   "execution_count": null,
   "id": "3e25333d-3936-4294-8d2c-0d75c19027fb",
   "metadata": {},
   "outputs": [],
   "source": [
    "correlation = correlate(T, mean_ROI, mode='full')\n",
    "# Normalize the cross-correlation\n",
    "r = correlation / (np.linalg.norm(T) * np.linalg.norm(mean_ROI))\n",
    "# Determine the lag values\n",
    "lag = np.arange(-(len(T) - 1), len(mean_ROI))"
   ]
  },
  {
   "cell_type": "code",
   "execution_count": null,
   "id": "5517fe4f-3e6d-4e2d-9492-843f2229f57b",
   "metadata": {},
   "outputs": [],
   "source": [
    "fig, ax = plt.subplots()\n",
    "ax.plot(lag, r)\n",
    "ax.set_ylabel('Magnitude')\n",
    "ax.set_xlabel('Time')\n",
    "ax.set_title('Cross Correlation Between BOLD fMRI & Envelope Audio')\n",
    "plt.show()"
   ]
  }
 ],
 "metadata": {
  "kernelspec": {
   "display_name": "Python 3 (ipykernel)",
   "language": "python",
   "name": "python3"
  },
  "language_info": {
   "codemirror_mode": {
    "name": "ipython",
    "version": 3
   },
   "file_extension": ".py",
   "mimetype": "text/x-python",
   "name": "python",
   "nbconvert_exporter": "python",
   "pygments_lexer": "ipython3",
   "version": "3.11.0"
  }
 },
 "nbformat": 4,
 "nbformat_minor": 5
}
